{
 "cells": [
  {
   "cell_type": "markdown",
   "id": "0d4041c0",
   "metadata": {},
   "source": [
    "##### Creating a data frame and load data "
   ]
  },
  {
   "cell_type": "code",
   "execution_count": 5,
   "id": "44bbb7d8-d314-4e3c-86db-34c738f93799",
   "metadata": {},
   "outputs": [
    {
     "name": "stdout",
     "output_type": "stream",
     "text": [
      "   order_id        date  customer_id  product_id  quantity  price\n",
      "0         1  2023-01-01          101         501         2   15.0\n",
      "1         2  2023-01-02          102         502         1   25.0\n",
      "2         3  2023-01-03          101         503         1   45.0\n",
      "3         4  2023-02-01          103         501         3   15.0\n",
      "4         5  2023-02-10          104         504         2   35.0\n",
      "5         6  2023-03-05          105         505         5   10.0\n",
      "6         7  2023-03-15          101         506         2   20.0\n",
      "7         8  2023-04-01          102         507         4   30.0\n",
      "8         9  2023-05-01          106         508         3   25.0\n",
      "9        10  2023-06-01          107         509         2   50.0\n"
     ]
    }
   ],
   "source": [
    "import pandas as pd\n",
    "\n",
    "sales_data = {\n",
    "    'order_id': [1, 2, 3, 4, 5, 6, 7, 8, 9, 10],\n",
    "    'date': ['2023-01-01', '2023-01-02', '2023-01-03', '2023-02-01', '2023-02-10', '2023-03-05', '2023-03-15', '2023-04-01', '2023-05-01', '2023-06-01'],\n",
    "    'customer_id': [101, 102, 101, 103, 104, 105, 101, 102, 106, 107],\n",
    "    'product_id': [501, 502, 503, 501, 504, 505, 506, 507, 508, 509],\n",
    "    'quantity': [2, 1, 1, 3, 2, 5, 2, 4, 3, 2],\n",
    "    'price': [15.0, 25.0, 45.0, 15.0, 35.0, 10.0, 20.0, 30.0, 25.0, 50.0]\n",
    "}\n",
    "df = pd.DataFrame(sales_data)\n",
    "\n",
    "#print the data \n",
    "print(df)"
   ]
  },
  {
   "cell_type": "code",
   "execution_count": 3,
   "id": "33c57d94",
   "metadata": {},
   "outputs": [],
   "source": [
    "#Saving dataframe to a CSV file\n",
    "df.to_csv('sales_data.csv',index=False)\n"
   ]
  },
  {
   "cell_type": "code",
   "execution_count": 6,
   "id": "55f4ee17",
   "metadata": {},
   "outputs": [
    {
     "name": "stdout",
     "output_type": "stream",
     "text": [
      "   order_id        date  customer_id  product_id  quantity  price\n",
      "0         1  2023-01-01          101         501         2   15.0\n",
      "1         2  2023-01-02          102         502         1   25.0\n",
      "2         3  2023-01-03          101         503         1   45.0\n",
      "3         4  2023-02-01          103         501         3   15.0\n",
      "4         5  2023-02-10          104         504         2   35.0\n",
      "5         6  2023-03-05          105         505         5   10.0\n",
      "6         7  2023-03-15          101         506         2   20.0\n",
      "7         8  2023-04-01          102         507         4   30.0\n",
      "8         9  2023-05-01          106         508         3   25.0\n",
      "9        10  2023-06-01          107         509         2   50.0\n"
     ]
    }
   ],
   "source": [
    "#Loading saved sales_data.csv file\n",
    "data = pd.read_csv('sales_data.csv')\n",
    "print(data)"
   ]
  },
  {
   "cell_type": "markdown",
   "id": "3ec1e7ea",
   "metadata": {},
   "source": [
    "Data Cleaning"
   ]
  },
  {
   "cell_type": "code",
   "execution_count": 7,
   "id": "eb53620a",
   "metadata": {},
   "outputs": [
    {
     "name": "stdout",
     "output_type": "stream",
     "text": [
      "Missing values in each column:\n",
      " order_id       0\n",
      "date           0\n",
      "customer_id    0\n",
      "product_id     0\n",
      "quantity       0\n",
      "price          0\n",
      "dtype: int64\n"
     ]
    }
   ],
   "source": [
    "#checking for missing values\n",
    "missing_values = df.isnull().sum()\n",
    "print(\"Missing values in each column:\\n\",missing_values)"
   ]
  },
  {
   "cell_type": "markdown",
   "id": "d7a66221",
   "metadata": {},
   "source": [
    "In sales_data dataset there is no any missing values"
   ]
  },
  {
   "cell_type": "code",
   "execution_count": 9,
   "id": "fdf85505",
   "metadata": {},
   "outputs": [
    {
     "name": "stdout",
     "output_type": "stream",
     "text": [
      "Data type of each column:\n",
      " order_id         int64\n",
      "date            object\n",
      "customer_id      int64\n",
      "product_id       int64\n",
      "quantity         int64\n",
      "price          float64\n",
      "dtype: object\n"
     ]
    }
   ],
   "source": [
    "#check the data type of each column\n",
    "print(\"Data type of each column:\\n\",data.dtypes)"
   ]
  },
  {
   "cell_type": "markdown",
   "id": "2b0b9f1e",
   "metadata": {},
   "source": [
    "Exploratory data analysis(EDA)"
   ]
  },
  {
   "cell_type": "code",
   "execution_count": 10,
   "id": "55ed9064",
   "metadata": {},
   "outputs": [
    {
     "name": "stdout",
     "output_type": "stream",
     "text": [
      "   order_id        date  customer_id  product_id  quantity  price  total_sales\n",
      "0         1  2023-01-01          101         501         2   15.0         30.0\n",
      "1         2  2023-01-02          102         502         1   25.0         25.0\n",
      "2         3  2023-01-03          101         503         1   45.0         45.0\n",
      "3         4  2023-02-01          103         501         3   15.0         45.0\n",
      "4         5  2023-02-10          104         504         2   35.0         70.0\n",
      "5         6  2023-03-05          105         505         5   10.0         50.0\n",
      "6         7  2023-03-15          101         506         2   20.0         40.0\n",
      "7         8  2023-04-01          102         507         4   30.0        120.0\n",
      "8         9  2023-05-01          106         508         3   25.0         75.0\n",
      "9        10  2023-06-01          107         509         2   50.0        100.0\n"
     ]
    }
   ],
   "source": [
    "#Calculate the total sales \n",
    "data['total_sales'] = data['quantity']*data['price']\n",
    "print(data)"
   ]
  },
  {
   "cell_type": "markdown",
   "id": "87e95514",
   "metadata": {},
   "source": [
    "Determine the top 5 product by total sales"
   ]
  },
  {
   "cell_type": "code",
   "execution_count": 17,
   "id": "a90b9209",
   "metadata": {},
   "outputs": [
    {
     "name": "stdout",
     "output_type": "stream",
     "text": [
      "Top 5 products by total sales:\n",
      " product_id\n",
      "507    120.0\n",
      "509    100.0\n",
      "501     75.0\n",
      "508     75.0\n",
      "504     70.0\n",
      "Name: total_sales, dtype: float64\n"
     ]
    }
   ],
   "source": [
    "#calculate the total sales for each product id\n",
    "product_sales  = data.groupby('product_id')['total_sales'].sum()\n",
    "\n",
    "#sort  the product__sales with desceending order\n",
    "sort_product_sales = product_sales.sort_values(ascending=False)\n",
    "\n",
    "#get the top 5\n",
    "print(\"Top 5 products by total sales:\\n\",sort_product_sales.head(5))\n",
    "\n"
   ]
  },
  {
   "cell_type": "markdown",
   "id": "de2293fb",
   "metadata": {},
   "source": [
    "Plot the graph for monthly sales trend over  time"
   ]
  },
  {
   "cell_type": "code",
   "execution_count": 18,
   "id": "44701249",
   "metadata": {},
   "outputs": [],
   "source": [
    "import matplotlib.pyplot as plt\n",
    "\n",
    "#Convert string type of 'date' column in to datetime format\n",
    "data['date'] = pd.to_datetime(data['date'])\n",
    "\n",
    "#then extract month from each date\n",
    "month_periods = data['date'].dt.to_period('M')\n",
    "\n",
    "#group the data by month\n",
    "grouped_data = data.groupby(month_periods)\n",
    "\n",
    "#calculate the sum of total sales for each month\n",
    "monthly_sales = grouped_data['total_sales'].sum()\n",
    "\n"
   ]
  },
  {
   "cell_type": "code",
   "execution_count": 20,
   "id": "2f742e4c",
   "metadata": {},
   "outputs": [
    {
     "data": {
      "image/png": "[encoded data removed]",
      "text/plain": [
       "<Figure size 640x480 with 1 Axes>"
      ]
     },
     "metadata": {},
     "output_type": "display_data"
    }
   ],
   "source": [
    "#Plot graph\n",
    "monthly_sales.plot(marker = 'o')\n",
    "plt.title('Monthly sales trend')\n",
    "plt.xlabel('Month')\n",
    "plt.ylabel('Total sales')\n",
    "plt.show()\n"
   ]
  },
  {
   "cell_type": "markdown",
   "id": "cc06d5d8",
   "metadata": {},
   "source": [
    "Bar chart for top five products"
   ]
  },
  {
   "cell_type": "code",
   "execution_count": 21,
   "id": "c2f9e0e1",
   "metadata": {},
   "outputs": [],
   "source": [
    "#lets get top five product using product_sales variable\n",
    "top_5_product = product_sales.sort_values(ascending=False).head(5)\n",
    "\n",
    "#then get product ids from top_5_products\n",
    "product_ids = top_5_product.index\n",
    "\n",
    "#get total sales from the top_5_products\n",
    "total_sales = top_5_product.values"
   ]
  },
  {
   "cell_type": "code",
   "execution_count": 22,
   "id": "0a9ed979",
   "metadata": {},
   "outputs": [
    {
     "data": {
      "image/png": "[encoded data removed]",
      "text/plain": [
       "<Figure size 1000x600 with 1 Axes>"
      ]
     },
     "metadata": {},
     "output_type": "display_data"
    }
   ],
   "source": [
    "#plot bar chart\n",
    "plt.figure(figsize=(10,6))\n",
    "plt.bar(product_ids,total_sales,color='skyblue')\n",
    "plt.title('Top five products by total sales')\n",
    "plt.xlabel('Product ID')\n",
    "plt.ylabel('Total Sales')\n",
    "plt.show()\n"
   ]
  },
  {
   "cell_type": "markdown",
   "id": "ff167264",
   "metadata": {},
   "source": [
    "Calculate average order value(AOV)"
   ]
  },
  {
   "cell_type": "code",
   "execution_count": 23,
   "id": "156fb151",
   "metadata": {},
   "outputs": [
    {
     "name": "stdout",
     "output_type": "stream",
     "text": [
      "Average over value(AOV): 60.0\n"
     ]
    }
   ],
   "source": [
    "#Average order value = Total sales/Total number of orders\n",
    "#find total sales\n",
    "total_sales = data['total_sales'].sum()\n",
    "\n",
    "#find total number of orders\n",
    "total_orders = len(data)\n",
    "\n",
    "#Calculate AVO\n",
    "aov = total_sales/total_orders\n",
    "\n",
    "print(\"Average over value(AOV):\",aov)"
   ]
  },
  {
   "cell_type": "markdown",
   "id": "88526ff9",
   "metadata": {},
   "source": [
    "Determine the repeat purchase rate"
   ]
  },
  {
   "cell_type": "code",
   "execution_count": 24,
   "id": "d50f3e30",
   "metadata": {},
   "outputs": [
    {
     "name": "stdout",
     "output_type": "stream",
     "text": [
      "Repeat purchase rate: 28.57142857142857 %\n"
     ]
    }
   ],
   "source": [
    "#identify customers who made more than one purches\n",
    "repeat_customers  = data['customer_id'].value_counts()[data['customer_id'].value_counts()>1]\n",
    "\n",
    "#calculate the total number of unique customers\n",
    "total_customers = len(data['customer_id'].unique())\n",
    "\n",
    "#Calculate number of repeat customers\n",
    "num_repeat_customers = len(repeat_customers)\n",
    "\n",
    "#Calculate number of repeat purchase rate\n",
    "repeat_purchase_rate = (num_repeat_customers/total_customers)*100\n",
    "\n",
    "print(\"Repeat purchase rate:\",repeat_purchase_rate,\"%\")"
   ]
  }
 ],
 "metadata": {
  "kernelspec": {
   "display_name": "Python 3 (ipykernel)",
   "language": "python",
   "name": "python3"
  },
  "language_info": {
   "codemirror_mode": {
    "name": "ipython",
    "version": 3
   },
   "file_extension": ".py",
   "mimetype": "text/x-python",
   "name": "python",
   "nbconvert_exporter": "python",
   "pygments_lexer": "ipython3",
   "version": "3.12.2"
  }
 },
 "nbformat": 4,
 "nbformat_minor": 5
}
